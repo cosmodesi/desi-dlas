{
 "cells": [
  {
   "cell_type": "code",
   "execution_count": null,
   "metadata": {},
   "outputs": [],
   "source": [
    "#This notebook is about how to do the training and prediction"
   ]
  },
  {
   "cell_type": "markdown",
   "metadata": {},
   "source": [
    "# training"
   ]
  },
  {
   "cell_type": "code",
   "execution_count": null,
   "metadata": {},
   "outputs": [],
   "source": [
    "#the codes used for training is in desidlas/training/training.py\n",
    "#for training the model, all you need is to run:\n",
    "python training.py -i 1000000 -r 'traingset.npy' -e 'testset.npy' -c 'trainingmode/current' \n",
    "\n",
    "#1000000:training iterations\n",
    "# -r : path to the training dataset\n",
    "# -e : path to the testing dataset\n",
    "# -c : path to save the model file , paht+'/current'\n",
    "#result : print training accuracy every 200 steps , print test accuracy every 5000 steps (classification accuracy)"
   ]
  },
  {
   "cell_type": "code",
   "execution_count": null,
   "metadata": {},
   "outputs": [],
   "source": [
    "#for low SNR training, we used smoothing method, so the command is\n",
    "python training.py -i 1000000 -r 'traingset.npy' -e 'testset.npy' -c 'trainingmode/current' -t 600 -m 4\n",
    "# -t : pixel numbers of each window\n",
    "#"
   ]
  },
  {
   "cell_type": "code",
   "execution_count": null,
   "metadata": {},
   "outputs": [],
   "source": []
  },
  {
   "cell_type": "markdown",
   "metadata": {},
   "source": [
    "# Prediction"
   ]
  },
  {
   "cell_type": "code",
   "execution_count": null,
   "metadata": {},
   "outputs": [],
   "source": [
    "#the codes used for detect DLAs is in desidlas/prediction/get_partprediction.py\n",
    "#to get the prediction for every part(400 or 600 pixels) , all you need is to run:\n",
    "python get_partprediction.py -p 'pre_dataset.npy' -o 'partpre.npy' -model high\n",
    "\n",
    "\n",
    "# -p : path to the dataset used to detect DLAs\n",
    "# -o : path to the output file\n",
    "# -m : high or mid , which CNN model is used\n",
    "#we recommand to use high model for snr>6 spectra and  mid model for 2.5<snr<6 spectra"
   ]
  },
  {
   "cell_type": "code",
   "execution_count": null,
   "metadata": {},
   "outputs": [],
   "source": []
  },
  {
   "cell_type": "markdown",
   "metadata": {},
   "source": [
    "# Make DLA catalog"
   ]
  },
  {
   "cell_type": "code",
   "execution_count": null,
   "metadata": {},
   "outputs": [],
   "source": [
    "from desidlas.prediction.pred_sightline import get_results,save_pred\n",
    "from desidlas.prediction.dla_catalog import catalog_fits\n",
    "sightlines=np.load('desidlas/tests/datafile/sightlines-16-1375.npy',allow_pickle = True,encoding='latin1')\n",
    "preds=np.load('desidlas/tests/datafile/partpre-16-1375.npy',allow_pickle=True).item()\n",
    "#make real DLA catalog and QSO catalog for mock spectra\n",
    "real_catalog=catalog_fits(sightlines,dlafile='desidlas/tests/datafile/realdlas-16-1375.fits',qsofile='desidlas/tests/datafile/qso-16-1375.fits')"
   ]
  },
  {
   "cell_type": "code",
   "execution_count": null,
   "metadata": {},
   "outputs": [],
   "source": [
    "#get predicted DLA catalog for each sightline\n",
    "level1=0.5 \n",
    "level2=0.2\n",
    "pred_catalog=save_pred(sightlines,preds,level2,level1,filename='desidlas/tests/datafile/preddlas-16-1375.fits')"
   ]
  },
  {
   "cell_type": "code",
   "execution_count": null,
   "metadata": {},
   "outputs": [],
   "source": [
    "#compare prediction with real absorbers,generate NHI,z hist and calculate confusion matrix\n",
    "get_results(real_catalog,pred_catalog,realname='desidlas/tests/datafile/label_realdlas-16-1375.fits',predname='desidlas/tests/datafile/label_preddlas-16-1375.fits',tpname='desidlas/tests/datafile/tppreds-16-1375.npy')"
   ]
  }
 ],
 "metadata": {
  "kernelspec": {
   "display_name": "Python 3",
   "language": "python",
   "name": "python3"
  },
  "language_info": {
   "codemirror_mode": {
    "name": "ipython",
    "version": 3
   },
   "file_extension": ".py",
   "mimetype": "text/x-python",
   "name": "python",
   "nbconvert_exporter": "python",
   "pygments_lexer": "ipython3",
   "version": "3.7.6"
  }
 },
 "nbformat": 4,
 "nbformat_minor": 4
}
