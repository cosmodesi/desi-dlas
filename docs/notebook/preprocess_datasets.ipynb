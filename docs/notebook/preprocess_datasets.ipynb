{
 "cells": [
  {
   "cell_type": "code",
   "execution_count": null,
   "metadata": {},
   "outputs": [],
   "source": [
    "#This notebook is about how to do the preprocessing and generating datasets "
   ]
  },
  {
   "cell_type": "markdown",
   "metadata": {},
   "source": [
    "# Preprocessing"
   ]
  },
  {
   "cell_type": "code",
   "execution_count": null,
   "metadata": {},
   "outputs": [],
   "source": [
    "#import modules\n",
    "from desidlas.datasets.preprocess import estimate_s2n,normalize,rebin\n",
    "from desidlas.datasets.DesiMock import DesiMock\n",
    "from desidlas.dla_cnn.defs import best_v\n",
    "import numpy as np\n",
    "import os\n",
    "from os.path import join\n",
    "from pkg_resources import resource_filename\n",
    "from pathlib import Path"
   ]
  },
  {
   "cell_type": "code",
   "execution_count": null,
   "metadata": {},
   "outputs": [],
   "source": [
    "#an example to load data\n",
    "#three kinds of data files are necessary for DESI spectra: spectra,truth and zbest\n",
    "datafile_path = os.path.join(resource_filename('desidlas', 'tests'), 'datafile')\n",
    "spectra= os.path.join(datafile_path, 'spectra', 'spectra-16-1375.fits')\n",
    "truth=os.path.join(datafile_path, 'spectra', 'truth-16-1375.fits')\n",
    "zbest=os.path.join(datafile_path, 'spectra', 'zbest-16-1375.fits')"
   ]
  },
  {
   "cell_type": "code",
   "execution_count": null,
   "metadata": {},
   "outputs": [],
   "source": [
    "#import get_sightlines\n",
    "from desidlas.datasets.get_sightlines import get_sightlines\n",
    "# an example for the output file path\n",
    "outpath='desidlas/tests/datafile/sightlines-16-1375.npy'"
   ]
  },
  {
   "cell_type": "code",
   "execution_count": null,
   "metadata": {},
   "outputs": [],
   "source": [
    "#load the spectra using DesiMock\n",
    "#the output file includes all the information we need \n",
    "sightlines=get_sightlines(spectra,truth,zbest,outpath)"
   ]
  },
  {
   "cell_type": "markdown",
   "metadata": {},
   "source": [
    "# Generating Dataset"
   ]
  },
  {
   "cell_type": "code",
   "execution_count": null,
   "metadata": {},
   "outputs": [],
   "source": [
    "import scipy.signal as signal\n",
    "from desidlas.datasets.datasetting import split_sightline_into_samples,select_samples_50p_pos_neg,pad_sightline\n",
    "from desidlas.datasets.preprocess import label_sightline\n",
    "from desidlas.dla_cnn.spectra_utils import get_lam_data\n",
    "from desidlas.datasets.get_dataset import make_datasets,make_smoothdatasets"
   ]
  },
  {
   "cell_type": "code",
   "execution_count": null,
   "metadata": {},
   "outputs": [],
   "source": [
    "#use sightlnes to produce datasets for training or prediction\n",
    "#'sightlines' is the output of get_sightlines module, it can also be loaded from the npy file\n",
    "sightlines=np.load('desidlas/tests/datafile/sightlines-16-1375.npy',allow_pickle = True,encoding='latin1')"
   ]
  },
  {
   "cell_type": "code",
   "execution_count": null,
   "metadata": {},
   "outputs": [],
   "source": [
    "#generating and save dataset\n",
    "dataset=make_datasets(sightlines,validate=True,output='desidlas/tests/datafile/dataset-16-1375.npy')"
   ]
  },
  {
   "cell_type": "code",
   "execution_count": null,
   "metadata": {},
   "outputs": [],
   "source": [
    "#for spectra with SNR<3, we use smoothing method when generating dataset\n",
    "smoothdataset=make_smoothdatasets(sightlines,validate=True,output='desidlas/tests/datafile/dataset-16-1375-smooth.npy')"
   ]
  }
 ],
 "metadata": {
  "kernelspec": {
   "display_name": "Python 3",
   "language": "python",
   "name": "python3"
  },
  "language_info": {
   "codemirror_mode": {
    "name": "ipython",
    "version": 3
   },
   "file_extension": ".py",
   "mimetype": "text/x-python",
   "name": "python",
   "nbconvert_exporter": "python",
   "pygments_lexer": "ipython3",
   "version": "3.7.6"
  }
 },
 "nbformat": 4,
 "nbformat_minor": 4
}
